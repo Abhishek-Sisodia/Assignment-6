{
 "cells": [
  {
   "cell_type": "code",
   "execution_count": 1,
   "id": "4216955b-9e1c-43ed-aeb5-8a46588cbd1d",
   "metadata": {},
   "outputs": [],
   "source": [
    "#Q1. Explain Class and Object with respect to Object-Oriented Programming. Give a suitable example.\n",
    "#Ans: Class: In object-oriented programming, a class is a blueprint or a template for creating objects (an instance of \n",
    "#the class). It defines a set of attributes and behaviors that an object of that class will have. A class can be \n",
    "#considered as a blueprint for the object or objects that can be created using it.\n",
    "\n",
    "#Object: An object is an instance of a class. It is a real-world entity with attributes and behaviors that are defined by \n",
    "#the class. An object has a state and a behavior, and it is created from a class. An object is also known as an instance \n",
    "#of a class.\n",
    "\n",
    "#Example: Let's consider a class called \"Car\". A Car class might have attributes such as color, make, model, and year, \n",
    "#and behaviors such as start, stop, and drive. An object of the Car class would be a specific car, such as a red 2022 \n",
    "#Toyota Corolla. The red 2022 Toyota Corolla would have the attributes of color (red), make (Toyota), model (Corolla), \n",
    "#and year (2022), and it would be able to perform the behaviors start, stop, and drive."
   ]
  },
  {
   "cell_type": "code",
   "execution_count": 2,
   "id": "1f541b58-f442-4240-ad26-267fd26d99fc",
   "metadata": {},
   "outputs": [],
   "source": [
    "#Q2. Name the four pillars of OOPs.\n",
    "#Ans: The four pillars of object-oriented programming (OOP) are:\n",
    "#Abstraction: Abstraction refers to the practice of exposing only the relevant information and hiding the complexity of \n",
    "#the implementation. It allows the user to focus on what the object does rather than how it does it.\n",
    "\n",
    "#Encapsulation: Encapsulation is the mechanism of wrapping the data (variables) and functions that operate on that data \n",
    "#within a single unit or object. This protects the data from accidental corruption and provides a secure way to access \n",
    "#the data.\n",
    "\n",
    "#Inheritance: Inheritance is a mechanism where a new class can be derived from an existing class. The derived class \n",
    "#inherits all the attributes and behaviors of the parent class and can also have its own attributes and behaviors.\n",
    "\n",
    "#Polymorphism: Polymorphism is the ability of an object to take on multiple forms. This is achieved in OOP by defining \n",
    "#methods with the same name in different classes that are related by inheritance. When a method is called on an object, \n",
    "#the correct implementation of that method is executed based on the object's actual class.\n"
   ]
  },
  {
   "cell_type": "code",
   "execution_count": 3,
   "id": "d949c518-b33f-41d3-a696-d3ac54097f74",
   "metadata": {},
   "outputs": [],
   "source": [
    "#Q3. Explain why the init() function is used. Give a suitable example.\n",
    "#Ans: The init() function is used in object-oriented programming to initialize the attributes of an object at the time of\n",
    "#its creation. It is a special method that is automatically called when an object is created from a class. The init() \n",
    "#method is also known as a constructor.\n",
    "\n",
    "#The init() function allows you to set the default values for the object's attributes, perform any initializations, and \n",
    "#allocate any required memory when the object is created. The method takes the newly created object as its first argument\n",
    "#(usually referred to as self), and additional arguments can be passed to initialize the object's attributes.\n"
   ]
  },
  {
   "cell_type": "code",
   "execution_count": 4,
   "id": "8c61fd91-3732-4904-85af-e01161791e55",
   "metadata": {},
   "outputs": [
    {
     "name": "stdout",
     "output_type": "stream",
     "text": [
      "John\n",
      "30\n"
     ]
    }
   ],
   "source": [
    "#example:-\n",
    "class Person:\n",
    "    def __init__(self, name, age):\n",
    "        self.name = name\n",
    "        self.age = age\n",
    "\n",
    "person = Person(\"John\", 30)\n",
    "print(person.name) # outputs: \"John\"\n",
    "print(person.age) # outputs: 30"
   ]
  },
  {
   "cell_type": "code",
   "execution_count": 5,
   "id": "75b4b72b-8c83-425b-9831-ac2547887af1",
   "metadata": {},
   "outputs": [],
   "source": [
    "#Q4. Why self is used in OOPs?\n",
    "#Ans: In object-oriented programming (OOP), self is used to refer to the instance of the object being manipulated within \n",
    "#a method. It is a convention in Python (and some other programming languages) to use self as the first argument in an \n",
    "#instance method to refer to the instance of the object.\n"
   ]
  },
  {
   "cell_type": "code",
   "execution_count": 6,
   "id": "b40723d7-32b5-4827-af38-97522332aa45",
   "metadata": {},
   "outputs": [],
   "source": [
    "#example:-"
   ]
  },
  {
   "cell_type": "code",
   "execution_count": 7,
   "id": "0b9d697b-6f92-4272-a59d-6d29c38aac76",
   "metadata": {},
   "outputs": [
    {
     "name": "stdout",
     "output_type": "stream",
     "text": [
      "John\n",
      "Jane\n"
     ]
    }
   ],
   "source": [
    "class Person:\n",
    "    def __init__(self, name, age):\n",
    "        self.name = name\n",
    "        self.age = age\n",
    "        \n",
    "    def set_name(self, name):\n",
    "        self.name = name\n",
    "        \n",
    "    def set_age(self, age):\n",
    "        self.age = age\n",
    "\n",
    "person = Person(\"John\", 30)\n",
    "print(person.name) # outputs: \"John\"\n",
    "person.set_name(\"Jane\")\n",
    "print(person.name) # outputs: \"Jane\""
   ]
  },
  {
   "cell_type": "code",
   "execution_count": 8,
   "id": "b0f7e1c9-3caa-45a2-b20d-d8726eadb4de",
   "metadata": {},
   "outputs": [],
   "source": [
    "#Q5. What is inheritance? Give an example for each type of inheritance.\n",
    "#Ans: Inheritance is a mechanism in object-oriented programming (OOP) that allows a new class to be derived from an \n",
    "#existing class. The derived class inherits all the attributes and behaviors of the parent class and can also have its \n",
    "#own attributes and behaviors. Inheritance enables code reuse and makes it easier to create and maintain large, complex \n",
    "#systems.\n",
    "\n",
    "#There are several types of inheritance, including:-\n",
    "#Single inheritance: Single inheritance is a type of inheritance where a derived class inherits from a single base class.\n"
   ]
  },
  {
   "cell_type": "code",
   "execution_count": 9,
   "id": "75925856-86c2-4c34-9ccd-7451b6670bc6",
   "metadata": {},
   "outputs": [
    {
     "name": "stdout",
     "output_type": "stream",
     "text": [
      "Dog\n",
      "4\n",
      "Bark\n"
     ]
    }
   ],
   "source": [
    "#example:-\n",
    "class Animal:\n",
    "    def __init__(self, species, legs):\n",
    "        self.species = species\n",
    "        self.legs = legs\n",
    "        \n",
    "    def make_sound(self):\n",
    "        print(\"Some animal sound\")\n",
    "        \n",
    "class Dog(Animal):\n",
    "    def __init__(self, breed):\n",
    "        Animal.__init__(self, \"Dog\", 4)\n",
    "        self.breed = breed\n",
    "        \n",
    "    def make_sound(self):\n",
    "        print(\"Bark\")\n",
    "        \n",
    "dog = Dog(\"Labrador\")\n",
    "print(dog.species) # outputs: \"Dog\"\n",
    "print(dog.legs) # outputs: 4\n",
    "dog.make_sound() # outputs: \"Bark\""
   ]
  },
  {
   "cell_type": "code",
   "execution_count": 10,
   "id": "65798b36-c3c4-4c39-81ea-58b656e324de",
   "metadata": {},
   "outputs": [
    {
     "name": "stdout",
     "output_type": "stream",
     "text": [
      "Dog\n",
      "4\n",
      "True\n",
      "Bark\n"
     ]
    }
   ],
   "source": [
    "#2.Multiple inheritance: Multiple inheritance is a type of inheritance where a derived class inherits from multiple base classes.\n",
    "#Example:-\n",
    "class Animal:\n",
    "    def __init__(self, species, legs):\n",
    "        self.species = species\n",
    "        self.legs = legs\n",
    "        \n",
    "    def make_sound(self):\n",
    "        print(\"Some animal sound\")\n",
    "        \n",
    "class DomesticAnimal:\n",
    "    def __init__(self, domesticated):\n",
    "        self.domesticated = domesticated\n",
    "        \n",
    "class Dog(Animal, DomesticAnimal):\n",
    "    def __init__(self, breed):\n",
    "        Animal.__init__(self, \"Dog\", 4)\n",
    "        DomesticAnimal.__init__(self, True)\n",
    "        self.breed = breed\n",
    "        \n",
    "    def make_sound(self):\n",
    "        print(\"Bark\")\n",
    "        \n",
    "dog = Dog(\"Labrador\")\n",
    "print(dog.species) # outputs: \"Dog\"\n",
    "print(dog.legs) # outputs: 4\n",
    "print(dog.domesticated) # outputs: True\n",
    "dog.make_sound() # outputs: \"Bark\""
   ]
  },
  {
   "cell_type": "code",
   "execution_count": 11,
   "id": "7cb23db2-b50f-4f10-8659-218d7fa3dcfe",
   "metadata": {},
   "outputs": [
    {
     "name": "stdout",
     "output_type": "stream",
     "text": [
      "Mammal\n",
      "4\n"
     ]
    }
   ],
   "source": [
    "#3.Multi-level inheritance: Multi-level inheritance is a type of inheritance where a derived class inherits from a base class, which in turn inherits from another base class.\n",
    "#Example:-\n",
    "class Animal:\n",
    "    def __init__(self, species, legs):\n",
    "        self.species = species\n",
    "        self.legs = legs\n",
    "        \n",
    "    def make_sound(self):\n",
    "        print(\"Some animal sound\")\n",
    "        \n",
    "class Mammal(Animal):\n",
    "    def __init__(self, fur):\n",
    "        Animal.__init__(self, \"Mammal\", 4)\n",
    "        self.fur = fur\n",
    "        \n",
    "class Dog(Mammal):\n",
    "    def __init__(self, breed):\n",
    "        Mammal.__init__(self, True)\n",
    "        self.breed = breed\n",
    "        \n",
    "    def make_sound(self):\n",
    "        print(\"Bark\")\n",
    "        \n",
    "dog = Dog(\"Labrador\")\n",
    "print(dog.species) # outputs: \"Mammal\"\n",
    "print(dog.legs) # outputs:"
   ]
  },
  {
   "cell_type": "code",
   "execution_count": null,
   "id": "e2c3b633-ffa0-4cd3-87e4-a2dfecd0b3ad",
   "metadata": {},
   "outputs": [],
   "source": []
  }
 ],
 "metadata": {
  "kernelspec": {
   "display_name": "Python 3 (ipykernel)",
   "language": "python",
   "name": "python3"
  },
  "language_info": {
   "codemirror_mode": {
    "name": "ipython",
    "version": 3
   },
   "file_extension": ".py",
   "mimetype": "text/x-python",
   "name": "python",
   "nbconvert_exporter": "python",
   "pygments_lexer": "ipython3",
   "version": "3.10.8"
  }
 },
 "nbformat": 4,
 "nbformat_minor": 5
}
